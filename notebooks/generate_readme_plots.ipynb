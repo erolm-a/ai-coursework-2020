{
 "cells": [
  {
   "cell_type": "markdown",
   "metadata": {},
   "source": [
    "## Setup"
   ]
  },
  {
   "cell_type": "code",
   "execution_count": null,
   "metadata": {},
   "outputs": [],
   "source": [
    "# use full window width\n",
    "from IPython.core.display import display, HTML\n",
    "display(HTML(\"<style>.container { width:100% !important; }</style>\"))"
   ]
  },
  {
   "cell_type": "code",
   "execution_count": null,
   "metadata": {},
   "outputs": [],
   "source": [
    "import os\n",
    "os.chdir('..')\n",
    "from matplotlib import pyplot as plt\n",
    "import numpy as np\n",
    "\n",
    "import virl"
   ]
  },
  {
   "cell_type": "markdown",
   "metadata": {},
   "source": [
    "## Generate Reward Plots"
   ]
  },
  {
   "cell_type": "code",
   "execution_count": null,
   "metadata": {},
   "outputs": [],
   "source": [
    "s = np.array([0., 0, 0, 0]) # epidemic state\n",
    "c = 1. # infection rate damping\n",
    "env = virl.Epidemic(stochastic=False, noisy=False)\n",
    "\n",
    "fig, axes = plt.subplots(1, 3, figsize=(3*8, 6))\n",
    "\n",
    "for k in range(4):\n",
    "    a = [env._reward(np.array([0, i/100, 0, 0]), env.actions[k]) for i in range(100)]\n",
    "    axes[0].plot(np.arange(100)/100, a, label=f'action {k}')\n",
    "\n",
    "axes[0].set_ylabel('reward')\n",
    "axes[0].set_xlabel('fraction of population infected')\n",
    "y = axes[0].get_ylim()\n",
    "\n",
    "infected = [0.01, 0.1]\n",
    "plot = ['center', 'right']\n",
    "for i in range(2):\n",
    "    x = infected[i]\n",
    "    b = [env._reward([0,x, 0,0], env.actions[a]) for a in range(4)]\n",
    "    axes[0].plot([x, x], y, '--', alpha=0.75, label=f'see {plot[i]} plot')\n",
    "    axes[i+1].bar(np.arange(4), height=b)\n",
    "    axes[i+1].set_xticks([0, 1, 2, 3])\n",
    "    axes[i+1].set_xlabel('action')\n",
    "    axes[i+1].set_ylabel('reward')\n",
    "    axes[i+1].set_title(f'Reward at {(x*100):.0f}% population infected')\n",
    "\n",
    "axes[0].legend()\n",
    "\n",
    "plt.savefig(dpi=300, fname='reward.png')"
   ]
  },
  {
   "cell_type": "markdown",
   "metadata": {},
   "source": [
    "## Generate Problem ID plots"
   ]
  },
  {
   "cell_type": "code",
   "execution_count": null,
   "metadata": {},
   "outputs": [],
   "source": [
    "fig, ax = plt.subplots(figsize=(8, 6))\n",
    "for i in range(10):\n",
    "    env = virl.Epidemic(problem_id=i)\n",
    "    states = []\n",
    "    rewards = []\n",
    "    done = False\n",
    "    s = env.reset()\n",
    "    states.append(s)\n",
    "    while not done:\n",
    "        s, r, done, info = env.step(action=0) # deterministic agent\n",
    "        states.append(s)\n",
    "        rewards.append(r)\n",
    "    ax.plot(np.array(states)[:,1], label=f'problem_id={i}')\n",
    "ax.set_xlabel('weeks since start of epidemic')\n",
    "ax.set_ylabel('Number of Infectious persons')\n",
    "ax.set_title('Simulation of problem_ids without intervention')\n",
    "ax.legend()\n",
    "plt.savefig(dpi=300, fname='problem_id.png')"
   ]
  },
  {
   "cell_type": "markdown",
   "metadata": {},
   "source": [
    "## Generate Noisy Observation Plot"
   ]
  },
  {
   "cell_type": "code",
   "execution_count": null,
   "metadata": {},
   "outputs": [],
   "source": [
    "env = virl.Epidemic(problem_id=0, noisy=True)\n",
    "states = []\n",
    "rewards = []\n",
    "done = False\n",
    "s = env.reset()\n",
    "states.append(s)\n",
    "while not done:\n",
    "    s, r, done, info = env.step(action=0) # deterministic agent\n",
    "    states.append(s)\n",
    "    rewards.append(r)\n",
    "\n",
    "fig, ax = plt.subplots(figsize=(8, 6))\n",
    "labels = ['susceptibles', 'infectious', 'quarantined', 'recovereds']\n",
    "states = np.array(states)\n",
    "for i in range(4):\n",
    "    ax.plot(states[:,i], label=labels[i]);\n",
    "ax.set_xlabel('weeks since start of epidemic')\n",
    "ax.set_ylabel('State s(t)')\n",
    "ax.set_title('Problem 0 with noisy observations without intervention')\n",
    "ax.legend()\n",
    "plt.savefig(dpi=300, fname='noisy.png')"
   ]
  },
  {
   "cell_type": "markdown",
   "metadata": {},
   "source": [
    "## Generate stochastic sample simulations"
   ]
  },
  {
   "cell_type": "code",
   "execution_count": null,
   "metadata": {},
   "outputs": [],
   "source": [
    "fig, ax = plt.subplots(figsize=(8, 6))\n",
    "for i in range(10):\n",
    "    env = virl.Epidemic(stochastic=True)\n",
    "    states = []\n",
    "    rewards = []\n",
    "    done = False\n",
    "    s = env.reset()\n",
    "    states.append(s)\n",
    "    while not done:\n",
    "        s, r, done, info = env.step(action=0) # deterministic agent\n",
    "        states.append(s)\n",
    "        rewards.append(r)\n",
    "    ax.plot(np.array(states)[:,1], label=f'draw {i}')\n",
    "ax.set_xlabel('weeks since start of epidemic')\n",
    "ax.set_ylabel('Number of Infectious persons')\n",
    "ax.set_title('Simulation of 10 stochastic episodes without intervention')\n",
    "ax.legend()\n",
    "plt.savefig(dpi=300, fname='stochastic.png')"
   ]
  },
  {
   "cell_type": "code",
   "execution_count": null,
   "metadata": {},
   "outputs": [],
   "source": []
  }
 ],
 "metadata": {
  "kernelspec": {
   "display_name": "Python [conda env:virl]",
   "language": "python",
   "name": "conda-env-virl-py"
  },
  "language_info": {
   "codemirror_mode": {
    "name": "ipython",
    "version": 3
   },
   "file_extension": ".py",
   "mimetype": "text/x-python",
   "name": "python",
   "nbconvert_exporter": "python",
   "pygments_lexer": "ipython3",
   "version": "3.8.5"
  },
  "toc": {
   "base_numbering": 1,
   "nav_menu": {},
   "number_sections": true,
   "sideBar": true,
   "skip_h1_title": false,
   "title_cell": "Table of Contents",
   "title_sidebar": "Contents",
   "toc_cell": false,
   "toc_position": {},
   "toc_section_display": true,
   "toc_window_display": false
  }
 },
 "nbformat": 4,
 "nbformat_minor": 2
}
