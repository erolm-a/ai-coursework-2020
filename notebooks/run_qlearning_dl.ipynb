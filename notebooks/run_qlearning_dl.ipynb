{
 "cells": [
  {
   "cell_type": "markdown",
   "metadata": {},
   "source": [
    "# Q-learning model with neural networks\n",
    "\n",
    "The idea is very similar to the one depicted in lab_week8 but rather than using RBF we will use a bunch of networks."
   ]
  },
  {
   "cell_type": "markdown",
   "metadata": {},
   "source": [
    "## Setup"
   ]
  },
  {
   "cell_type": "code",
   "execution_count": 3,
   "metadata": {},
   "outputs": [
    {
     "data": {
      "text/html": [
       "<style>.container { width:100% !important; }</style>"
      ],
      "text/plain": [
       "<IPython.core.display.HTML object>"
      ]
     },
     "metadata": {},
     "output_type": "display_data"
    }
   ],
   "source": [
    "# use full window width\n",
    "from IPython.core.display import display, HTML\n",
    "display(HTML(\"<style>.container { width:100% !important; }</style>\"))"
   ]
  },
  {
   "cell_type": "code",
   "execution_count": 4,
   "metadata": {},
   "outputs": [],
   "source": [
    "import os\n",
    "os.chdir('..')\n",
    "from matplotlib import pyplot as plt\n",
    "import numpy as np\n",
    "\n",
    "import virl\n",
    "import utils"
   ]
  },
  {
   "cell_type": "markdown",
   "metadata": {},
   "source": [
    "## Simulation"
   ]
  },
  {
   "cell_type": "code",
   "execution_count": 30,
   "metadata": {},
   "outputs": [],
   "source": [
    "from sklearn.neural_network import MLPRegressor\n",
    "from sklearn.preprocessing import StandardScaler\n",
    "from sklearn.pipeline import FeatureUnion, Pipeline\n",
    "from collections import namedtuple\n",
    "import itertools\n",
    "\n",
    "env = virl.Epidemic(stochastic=False, noisy=False)"
   ]
  },
  {
   "cell_type": "code",
   "execution_count": 47,
   "metadata": {},
   "outputs": [],
   "source": [
    "def create_policy(func_approximator, epsilon, num_actions):\n",
    "    \"\"\"\n",
    "    Create a greedy policy with the exploration defined by the epsilon and nA parameters\n",
    "    \n",
    "    args:\n",
    "    - func_approximator: a function approximator that gives the probability Q(s, a) for a given state s\n",
    "    - epsilon: the probability to select a random action (float between 0 and 1).\n",
    "        If 0, the algorithm is perfectly deterministic.\n",
    "    - num_actions: the number of actions\n",
    "    \n",
    "    return: A policy function. Policy functions take a state as input and return an action to perform.\n",
    "    \"\"\"\n",
    "    \n",
    "    def policy_fn(state):\n",
    "        \"\"\"\n",
    "        Perform an action.\n",
    "        \n",
    "        Returns: a pair (A, q_values) where `A` is a list of scores for each action and\n",
    "        q_values is the actual value returned by the approximator. For low values of epsilon,\n",
    "        the 'best' action will be reinforced at A[best_action].\n",
    "        \"\"\"\n",
    "        A = np.ones(num_actions, dtype=float) * epsilon / num_actions\n",
    "        q_values = func_approximator.predict(state)\n",
    "        best_action = np.argmax(q_values)\n",
    "        A[best_action] += (1.0 - epsilon)\n",
    "        return A, q_values\n",
    "    \n",
    "    return policy_fn\n",
    "    \n",
    "class FunctionApproximator:\n",
    "    \"\"\"\n",
    "    Approximate Q(s, a) with a neural network\n",
    "    \"\"\"\n",
    "    \n",
    "    def __init__(self, hidden_layer_sizes=(100,), eta0=0.0001, optimizer=\"adam\", learning_rate=\"constant\"):\n",
    "        \"\"\"\n",
    "        Set up the function approximator.\n",
    "        \n",
    "        args:\n",
    "        - hidden_layer_sizes: the number of neurons in each layer.\n",
    "        - eta0: (initial) learning rate.\n",
    "        - optimizer: optimizer to use. Can be \"adam\", \"rmsprop\", \"sgd\" etc.\n",
    "        - learning_rate: if the optimizer is sgd, then the learning rate will\n",
    "            decrease over time. See sklearn.neural_network.MLPRegressor for details\n",
    "        \"\"\"\n",
    "        \n",
    "        self.eta0 = eta0\n",
    "        self.optimizer = optimizer\n",
    "        \n",
    "        observation_examples = np.array([env.observation_space.sample() for x in range(10000)])\n",
    "        \n",
    "        self.models = []\n",
    "        for i in range(env.action_space.n):\n",
    "            model = Pipeline([\n",
    "                (\"scaler\", StandardScaler().fit(observation_examples)),\n",
    "                (\"neural_network\", MLPRegressor(solver=optimizer, alpha=eta0))\n",
    "            ])\n",
    "            \n",
    "            # In order to perform training we need to perform active inference in the model.\n",
    "            # However, sklearn does not let us do it before it is fitted.\n",
    "            # Thus, use a partial_fit\n",
    "            model.named_steps['neural_network'].partial_fit([env.reset()], [0])\n",
    "            self.models.append(model)\n",
    "        \n",
    "    def predict(self, s, a = None):\n",
    "        \"\"\"\n",
    "        Perform a prediction according to the approximation of Q(s, a)\n",
    "        \n",
    "        Args:\n",
    "        - s: state to make predictions from extracted from the state space.\n",
    "        - a: (Optional) action to make a prediction for.\n",
    "        \n",
    "        Return:\n",
    "        - if a is not provided a list of scores of each action\n",
    "        - if a is provided only the specific score of that action.\n",
    "        \"\"\"\n",
    "        \n",
    "        if a == None:\n",
    "            return np.array([m.predict([s])[0] for m in self.models])\n",
    "        else:\n",
    "            return self.models[a].predict([s])[0]\n",
    "    \n",
    "    def update(self, s, a, y):\n",
    "        \"\"\"\n",
    "        Update the model's parameters for a given state and action towards the target\n",
    "        \"\"\"\n",
    "        self.models[a].named_steps['neural_network'].partial_fit([s], [y])\n",
    "\n",
    "EpisodeStats = namedtuple(\"Stats\", [\"episode_lengths\", \"episode_rewards\"])\n",
    "\n",
    "def q_learning(env, func_approximator, num_episodes, discount_factor=1.0, epsilon=0.1, epsilon_decay=1.0):\n",
    "    \"\"\"\n",
    "    Q-Learning algo for Q-learning using a generic function approximation.\n",
    "    \"\"\"\n",
    "\n",
    "    stats = EpisodeStats(\n",
    "        episode_lengths=np.zeros(num_episodes),\n",
    "        episode_rewards=np.zeros(num_episodes))\n",
    "\n",
    "    for i_episode in range(num_episodes):\n",
    "        # Create a handle to the policy we're following\n",
    "        # The basic idea is that in the first episodes random operations are allowed but then more and more\n",
    "        # discouraged as the function approximator improves.\n",
    "        policy = create_policy(func_approximator, epsilon * epsilon_decay ** i_episode, env.action_space.n )\n",
    "\n",
    "        last_reward = stats.episode_rewards[i_episode - 1]\n",
    "\n",
    "        state = env.reset()\n",
    "\n",
    "        for t in itertools.count():\n",
    "            # probe the policy and sample an action\n",
    "            action_probs, q_vals = policy(state)\n",
    "            action = np.random.choice(np.arange(len(action_probs)), p=action_probs)\n",
    "\n",
    "            # Perform the action\n",
    "            next_state, reward, done, _ = env.step(action)\n",
    "\n",
    "            stats.episode_rewards[i_episode] += reward\n",
    "            stats.episode_lengths[i_episode] = t\n",
    "\n",
    "            # Apply the Q-learning update equation\n",
    "            q_values_next = func_approximator.predict(next_state)\n",
    "\n",
    "            q_values_current = func_approximator.predict(state)\n",
    "\n",
    "            td_target = reward + discount_factor * np.max(q_vals)\n",
    "\n",
    "            func_approximator.update(state, action, td_target)\n",
    "            \n",
    "            print(\"\\rStep {} @ Episode {}/{} ({})\".format(t, i_episode + 1, num_episodes, last_reward), end=\"\")\n",
    "\n",
    "            if done:\n",
    "                break\n",
    "\n",
    "            state = next_state\n",
    "\n",
    "    return stats"
   ]
  },
  {
   "cell_type": "code",
   "execution_count": 64,
   "metadata": {},
   "outputs": [
    {
     "name": "stdout",
     "output_type": "stream",
     "text": [
      "Step 51 @ Episode 35/1000 (-1.5829436208953267)"
     ]
    },
    {
     "ename": "ValueError",
     "evalue": "probabilities are not non-negative",
     "output_type": "error",
     "traceback": [
      "\u001b[0;31m---------------------------------------------------------------------------\u001b[0m",
      "\u001b[0;31mValueError\u001b[0m                                Traceback (most recent call last)",
      "\u001b[0;32m<ipython-input-64-e34bb006a7c2>\u001b[0m in \u001b[0;36m<module>\u001b[0;34m\u001b[0m\n\u001b[1;32m      1\u001b[0m \u001b[0mapproximator_dl\u001b[0m \u001b[0;34m=\u001b[0m \u001b[0mFunctionApproximator\u001b[0m\u001b[0;34m(\u001b[0m\u001b[0mhidden_layer_sizes\u001b[0m\u001b[0;34m=\u001b[0m\u001b[0;34m(\u001b[0m\u001b[0;36m100\u001b[0m\u001b[0;34m,\u001b[0m \u001b[0;36m50\u001b[0m\u001b[0;34m)\u001b[0m\u001b[0;34m,\u001b[0m \u001b[0meta0\u001b[0m\u001b[0;34m=\u001b[0m\u001b[0;36m0.01\u001b[0m\u001b[0;34m)\u001b[0m\u001b[0;34m\u001b[0m\u001b[0;34m\u001b[0m\u001b[0m\n\u001b[0;32m----> 2\u001b[0;31m \u001b[0mstats\u001b[0m \u001b[0;34m=\u001b[0m \u001b[0mq_learning\u001b[0m\u001b[0;34m(\u001b[0m\u001b[0menv\u001b[0m\u001b[0;34m,\u001b[0m \u001b[0mapproximator_dl\u001b[0m\u001b[0;34m,\u001b[0m \u001b[0;36m1000\u001b[0m\u001b[0;34m,\u001b[0m \u001b[0mepsilon\u001b[0m\u001b[0;34m=\u001b[0m\u001b[0;36m0.05\u001b[0m\u001b[0;34m,\u001b[0m \u001b[0mepsilon_decay\u001b[0m\u001b[0;34m=\u001b[0m\u001b[0;36m1.1\u001b[0m\u001b[0;34m)\u001b[0m\u001b[0;34m\u001b[0m\u001b[0;34m\u001b[0m\u001b[0m\n\u001b[0m",
      "\u001b[0;32m<ipython-input-47-6da7518c10de>\u001b[0m in \u001b[0;36mq_learning\u001b[0;34m(env, func_approximator, num_episodes, discount_factor, epsilon, epsilon_decay)\u001b[0m\n\u001b[1;32m    111\u001b[0m             \u001b[0;31m# probe the policy and sample an action\u001b[0m\u001b[0;34m\u001b[0m\u001b[0;34m\u001b[0m\u001b[0;34m\u001b[0m\u001b[0m\n\u001b[1;32m    112\u001b[0m             \u001b[0maction_probs\u001b[0m\u001b[0;34m,\u001b[0m \u001b[0mq_vals\u001b[0m \u001b[0;34m=\u001b[0m \u001b[0mpolicy\u001b[0m\u001b[0;34m(\u001b[0m\u001b[0mstate\u001b[0m\u001b[0;34m)\u001b[0m\u001b[0;34m\u001b[0m\u001b[0;34m\u001b[0m\u001b[0m\n\u001b[0;32m--> 113\u001b[0;31m             \u001b[0maction\u001b[0m \u001b[0;34m=\u001b[0m \u001b[0mnp\u001b[0m\u001b[0;34m.\u001b[0m\u001b[0mrandom\u001b[0m\u001b[0;34m.\u001b[0m\u001b[0mchoice\u001b[0m\u001b[0;34m(\u001b[0m\u001b[0mnp\u001b[0m\u001b[0;34m.\u001b[0m\u001b[0marange\u001b[0m\u001b[0;34m(\u001b[0m\u001b[0mlen\u001b[0m\u001b[0;34m(\u001b[0m\u001b[0maction_probs\u001b[0m\u001b[0;34m)\u001b[0m\u001b[0;34m)\u001b[0m\u001b[0;34m,\u001b[0m \u001b[0mp\u001b[0m\u001b[0;34m=\u001b[0m\u001b[0maction_probs\u001b[0m\u001b[0;34m)\u001b[0m\u001b[0;34m\u001b[0m\u001b[0;34m\u001b[0m\u001b[0m\n\u001b[0m\u001b[1;32m    114\u001b[0m \u001b[0;34m\u001b[0m\u001b[0m\n\u001b[1;32m    115\u001b[0m             \u001b[0;31m# Perform the action\u001b[0m\u001b[0;34m\u001b[0m\u001b[0;34m\u001b[0m\u001b[0;34m\u001b[0m\u001b[0m\n",
      "\u001b[0;32mmtrand.pyx\u001b[0m in \u001b[0;36mnumpy.random.mtrand.RandomState.choice\u001b[0;34m()\u001b[0m\n",
      "\u001b[0;31mValueError\u001b[0m: probabilities are not non-negative"
     ]
    }
   ],
   "source": [
    "approximator_dl = FunctionApproximator(hidden_layer_sizes=(100, 50), eta0=0.01)\n",
    "stats = q_learning(env, approximator_dl, 1000, epsilon=0.05, epsilon_decay=1.1)"
   ]
  },
  {
   "cell_type": "code",
   "execution_count": 58,
   "metadata": {},
   "outputs": [],
   "source": [
    "s = env.reset()\n",
    "\n",
    "states = [s]\n",
    "rewards = []\n",
    "action_taken = []\n",
    "\n",
    "trained_policy = create_policy(approximator_dl, 0, env.action_space.n)\n",
    "\n",
    "done = False\n",
    "\n",
    "while not done:\n",
    "    s = states[-1]\n",
    "    action_probs, q_values = trained_policy(s)\n",
    "    action_id = np.random.choice(np.arange(len(action_probs)), p=action_probs)\n",
    "    \n",
    "    s, r, done, i = env.step(action=action_id)\n",
    "    \n",
    "    states.append(s)\n",
    "    rewards.append(r)\n",
    "    action_taken.append(action_id)"
   ]
  },
  {
   "cell_type": "code",
   "execution_count": 59,
   "metadata": {},
   "outputs": [
    {
     "name": "stdout",
     "output_type": "stream",
     "text": [
      "[1, 1, 1, 1, 1, 1, 1, 1, 1, 1, 1, 1, 1, 1, 1, 1, 1, 1, 1, 1, 1, 1, 1, 1, 1, 1, 1, 1, 1, 1, 1, 1, 1, 1, 1, 1, 1, 1, 1, 1, 1, 1, 1, 1, 1, 1, 1, 1, 1, 1, 1, 1]\n"
     ]
    }
   ],
   "source": [
    "print(action_taken)"
   ]
  },
  {
   "cell_type": "markdown",
   "metadata": {},
   "source": [
    "## Analysis"
   ]
  },
  {
   "cell_type": "code",
   "execution_count": 55,
   "metadata": {},
   "outputs": [
    {
     "name": "stdout",
     "output_type": "stream",
     "text": [
      "total reward -1.6336942500717837\n"
     ]
    },
    {
     "data": {
      "image/png": "[encoded data removed]",
      "text/plain": [
       "<Figure size 1440x576 with 2 Axes>"
      ]
     },
     "metadata": {
      "needs_background": "light"
     },
     "output_type": "display_data"
    }
   ],
   "source": [
    "utils.plot(states, rewards, action_taken)"
   ]
  },
  {
   "cell_type": "code",
   "execution_count": null,
   "metadata": {},
   "outputs": [],
   "source": []
  }
 ],
 "metadata": {
  "kernelspec": {
   "display_name": "Python 3",
   "language": "python",
   "name": "python3"
  },
  "language_info": {
   "codemirror_mode": {
    "name": "ipython",
    "version": 3
   },
   "file_extension": ".py",
   "mimetype": "text/x-python",
   "name": "python",
   "nbconvert_exporter": "python",
   "pygments_lexer": "ipython3",
   "version": "3.8.5"
  },
  "toc": {
   "base_numbering": 1,
   "nav_menu": {},
   "number_sections": true,
   "sideBar": true,
   "skip_h1_title": false,
   "title_cell": "Table of Contents",
   "title_sidebar": "Contents",
   "toc_cell": false,
   "toc_position": {},
   "toc_section_display": true,
   "toc_window_display": false
  }
 },
 "nbformat": 4,
 "nbformat_minor": 4
}
