{
 "cells": [
  {
   "cell_type": "markdown",
   "metadata": {},
   "source": [
    "# Policy search with linear function approximation"
   ]
  },
  {
   "cell_type": "markdown",
   "metadata": {},
   "source": [
    "## Setup"
   ]
  },
  {
   "cell_type": "code",
   "execution_count": 1,
   "metadata": {},
   "outputs": [
    {
     "data": {
      "text/html": [
       "<style>.container { width:100% !important; }</style>"
      ],
      "text/plain": [
       "<IPython.core.display.HTML object>"
      ]
     },
     "metadata": {},
     "output_type": "display_data"
    }
   ],
   "source": [
    "# use full window width\n",
    "from IPython.core.display import display, HTML\n",
    "display(HTML(\"<style>.container { width:100% !important; }</style>\"))"
   ]
  },
  {
   "cell_type": "code",
   "execution_count": 2,
   "metadata": {},
   "outputs": [],
   "source": [
    "# The basics\n",
    "%matplotlib inline\n",
    "import os\n",
    "import sys\n",
    "os.chdir('..')\n",
    "from matplotlib import pyplot as plt\n",
    "import numpy as np\n",
    "import time # maybe?\n",
    "import itertools\n",
    "import matplotlib\n",
    "\n",
    "from mpl_toolkits.mplot3d import Axes3D\n",
    "\n",
    "from collections import namedtuple\n",
    "\n",
    "# import open AI gym\n",
    "import gym\n",
    "\n",
    "# basic tools for defining the function and doing the gradient-based learning\n",
    "import sklearn.pipeline\n",
    "import sklearn.preprocessing\n",
    "\n",
    "# RBF function transformation method\n",
    "from sklearn.kernel_approximation import RBFSampler\n",
    "# to solve the optimisaiton with gradient based optimiser\n",
    "from sklearn.linear_model import SGDRegressor # this defines the SGD function\n",
    "\n",
    "import virl\n",
    "import utils"
   ]
  },
  {
   "cell_type": "markdown",
   "metadata": {},
   "source": [
    "# Analysis"
   ]
  },
  {
   "cell_type": "code",
   "execution_count": 3,
   "metadata": {},
   "outputs": [],
   "source": [
    "## performance defined by rewards\n",
    "\n",
    "## 4?5 States s(t):\n",
    "# s[0]: susceptible people\n",
    "# s[1]: infectious people\n",
    "# s[2]: quarantined people\n",
    "# s[4]: recovered people\n",
    "\n",
    "# what is mystery state s[3]? - need to find out lol\n",
    "\n",
    "## 4 Actions a(t):\n",
    "# 0: none - do nothing\n",
    "# 1: impose full lockdown\n",
    "# 2: implement track & trace\n",
    "# 3: social distancing - enforce masks, and distancing\n",
    "\n",
    "## Every week agent obtain evidence of state of pandemic\n",
    "## and should update policies accordingly\n",
    "## each episode ends after 52 weeks\n",
    "\n",
    "## 10 deterministic epidemic problems, each with different set of parameters\n",
    "## Assuming stochasticity is false;\n",
    "## specific problem with problem_id=x, x in [0..9], default 0."
   ]
  },
  {
   "cell_type": "markdown",
   "metadata": {},
   "source": [
    "## Environment"
   ]
  },
  {
   "cell_type": "markdown",
   "metadata": {},
   "source": [
    "environment based on https://git.dcs.gla.ac.uk/SebastianStein/virl"
   ]
  },
  {
   "cell_type": "code",
   "execution_count": 4,
   "metadata": {},
   "outputs": [
    {
     "name": "stdout",
     "output_type": "stream",
     "text": [
      "Discrete(4)\n",
      "Box(0.0, inf, (4,), float64)\n",
      "[[0.8814418  0.27863708 3.18902497 0.38933465]\n",
      " [0.54259099 0.35207092 3.41981715 0.0573499 ]\n",
      " [0.92670537 0.69553529 1.59391156 2.38939588]\n",
      " ...\n",
      " [1.08559427 0.21993362 2.3144001  0.52087386]\n",
      " [1.30970671 0.68884785 0.49561481 1.7875795 ]\n",
      " [0.77619215 3.69655736 0.58398124 3.7641834 ]]\n"
     ]
    }
   ],
   "source": [
    "env = virl.Epidemic(stochastic=False, noisy=False)\n",
    "\"\"\"\n",
    "Args:\n",
    "    stochastic (bool): Is the infection rate sampled from some distribution at the beginning of each episode (default: False)?\n",
    "    noisy (bool): Is the state a noisy estimate of the true state (default: False)?\n",
    "    problem_id (int): Deterministic parameterization of the epidemic (default: 0).\n",
    "\"\"\"\n",
    "\n",
    "states = []\n",
    "rewards = []\n",
    "done = False\n",
    "\n",
    "\n",
    "# observations of the states, and actions we can expect\n",
    "observation_examples = np.array([env.observation_space.sample() for x in range(10000)])\n",
    "\n",
    "print(env.action_space)\n",
    "print(env.observation_space)\n",
    "print(observation_examples)"
   ]
  },
  {
   "cell_type": "markdown",
   "metadata": {},
   "source": [
    "### Policy Function"
   ]
  },
  {
   "cell_type": "markdown",
   "metadata": {},
   "source": [
    "we want to be able to define a policy from the Q(s,a) function"
   ]
  },
  {
   "cell_type": "code",
   "execution_count": 5,
   "metadata": {},
   "outputs": [],
   "source": [
    "def create_policy(func_approximator, epsilon, num_actions):\n",
    "    \"\"\"\n",
    "    Takes as argument observations, return a policy for best action to perform.\n",
    "    This function creates a greedy policy with the exploration defined by the epsilon, and num_actions parameters\n",
    "    \n",
    "    args:\n",
    "        func_approximator: the probability Q(s,a) given a state s\n",
    "        epsilon: probability to select a random action (float between 0, and 1)\n",
    "        num_actions: number of actions in environement\n",
    "    \n",
    "    return:\n",
    "        a policy function; action to perform\n",
    "    \n",
    "    \"\"\"\n",
    "    def policy_fn(state):\n",
    "        \"\"\"\n",
    "        Takes a state, and returns potential stochastic policy from exploration.\n",
    "        \n",
    "        args:\n",
    "            state: a 2D array of given state(s)\n",
    "        return:\n",
    "            a pair {A,q_values} \n",
    "                A: list of scores for each action\n",
    "                q_values: value returned by approximator\n",
    "        \"\"\"\n",
    "        A = np.ones(num_actions, dtype=float) * epsilon / num_actions\n",
    "        q_values = func_approximator.predict(state)\n",
    "        best_action = np.argmax(q_values)\n",
    "        # if epsilon is low, \"best\" action will be reinforced\n",
    "        A[best_action] += (1.0 - epsilon)\n",
    "        return A,q_values\n",
    "\n",
    "    return policy_fn"
   ]
  },
  {
   "cell_type": "markdown",
   "metadata": {},
   "source": [
    "----"
   ]
  },
  {
   "cell_type": "markdown",
   "metadata": {},
   "source": [
    "##### IGNORE; INITAL TRIAL\n",
    "## Random Simulation"
   ]
  },
  {
   "cell_type": "code",
   "execution_count": 46,
   "metadata": {},
   "outputs": [],
   "source": [
    "s = env.reset()\n",
    "states.append(s)\n",
    "while not done:\n",
    "    s, r, done, i = env.step(action=2) # deterministic agent\n",
    "    #s, r, done, i = env.step(action=np.random.choice(env.action_space.n))\n",
    "    states.append(s)\n",
    "    rewards.append(r)"
   ]
  },
  {
   "cell_type": "markdown",
   "metadata": {},
   "source": [
    "----"
   ]
  },
  {
   "cell_type": "markdown",
   "metadata": {},
   "source": [
    "## Function Approximator"
   ]
  },
  {
   "cell_type": "markdown",
   "metadata": {},
   "source": [
    "radial basis function (RBF) whose value depends only on the distance between the input and some fixed function $\\phi$.\n",
    "\n",
    "$${f}({\\mathbf{x}}) = \\sum\\limits_j^{} {{w_j}{\\phi _j}\\left( s \\right)}  = \\sum\\limits_j^{} {\\left( {{w_j} \\cdot \\exp \\left( { - \\tfrac{1}{{{\\gamma_j^2}}}\\left\\| {{\\mathbf{x}} - {{\\boldsymbol{\\mu }}_j}} \\right\\|}_2^2 \\right)} \\right)} $$\n",
    "\n"
   ]
  },
  {
   "cell_type": "markdown",
   "metadata": {},
   "source": [
    "if we take action $a$ in state $s$ and observe that we end up in$ s'$, and we assume that this happends all the time, then the Bellman equations reduces to a very simple form."
   ]
  },
  {
   "cell_type": "markdown",
   "metadata": {},
   "source": [
    "$$Q(s,a) = R(s) + \\gamma {\\max _{a'}}Q(s',a')$$"
   ]
  },
  {
   "cell_type": "markdown",
   "metadata": {},
   "source": [
    "for the function approx, we can instead formulate the problem as a least squares problem i.e. try to minimize the distance between the just observed transition leading to the td-target:\n",
    "\n",
    "$$Q(s,a) \\leftarrow Q(s,a) + \\alpha ( R(s) + \\gamma {\\max _{a'}}Q(s',a') - Q(s,a) )$$\n",
    "\n",
    "which is just,\n",
    "$$w^* = argmin_w (R(s) + \\gamma {\\max _{a'}}\\hat Q_w(s',a') - \\hat Q_w(s,a) )^2$$"
   ]
  },
  {
   "cell_type": "markdown",
   "metadata": {},
   "source": [
    "this allows us to do an update based on the single observation of what happend in state $s$ taking action $a$. This can be done by computing the gradient of the loss w.r.t. $w$, and making a small update to the weights. Since this is only based on one observation and there is some uncertanty to it we call it a online/stochastic gradient"
   ]
  },
  {
   "cell_type": "markdown",
   "metadata": {},
   "source": [
    "### Defining model for Q(s,a)"
   ]
  },
  {
   "cell_type": "code",
   "execution_count": 6,
   "metadata": {},
   "outputs": [
    {
     "data": {
      "text/plain": [
       "StandardScaler()"
      ]
     },
     "execution_count": 6,
     "metadata": {},
     "output_type": "execute_result"
    }
   ],
   "source": [
    "# consider if our input values are normalised; zero mean, and one standard deviation for input.\n",
    "\n",
    "scaler = sklearn.preprocessing.StandardScaler()\n",
    "scaler.fit(observation_examples)"
   ]
  },
  {
   "cell_type": "markdown",
   "metadata": {},
   "source": [
    "   \n",
    "   \n",
    "   "
   ]
  },
  {
   "cell_type": "markdown",
   "metadata": {},
   "source": [
    " "
   ]
  },
  {
   "cell_type": "markdown",
   "metadata": {},
   "source": [
    "#### our exp()"
   ]
  },
  {
   "cell_type": "markdown",
   "metadata": {},
   "source": [
    "$${\\left( { \\exp \\left( { - \\tfrac{1}{{{\\gamma_j^2}}}\\left\\| {{\\mathbf{x}} - {{\\boldsymbol{\\mu }}_j}} \\right\\|}_2^2 \\right)} \\right)} $$"
   ]
  },
  {
   "cell_type": "code",
   "execution_count": 7,
   "metadata": {},
   "outputs": [
    {
     "data": {
      "text/plain": [
       "FeatureUnion(transformer_list=[('rbf1', RBFSampler(gamma=5.0)),\n",
       "                               ('rbf2', RBFSampler(gamma=2.0)),\n",
       "                               ('rbf3', RBFSampler()),\n",
       "                               ('rbf4', RBFSampler(gamma=0.5))])"
      ]
     },
     "execution_count": 7,
     "metadata": {},
     "output_type": "execute_result"
    }
   ],
   "source": [
    "# def rbf_func(x,mu,gamma):\n",
    "#     return np.exp(- np.linalg.norm(x-mu,axis=-1)**2 / gamma**2)\n",
    "\n",
    "# use sklearn to handle the RBF function in our agent for us\n",
    "# define multiple RBF functions with random location, and scale: the 𝜇 (mu), and 𝛾 (gamma) respectively\n",
    "feature_transformer = sklearn.pipeline.FeatureUnion([\n",
    "        (\"rbf1\", RBFSampler(gamma=5.0, n_components=100)),\n",
    "        (\"rbf2\", RBFSampler(gamma=2.0, n_components=100)),\n",
    "        (\"rbf3\", RBFSampler(gamma=1.0, n_components=100)),\n",
    "        (\"rbf4\", RBFSampler(gamma=0.5, n_components=100))\n",
    "        ])\n",
    "feature_transformer.fit(scaler.transform(observation_examples))\n",
    "\n",
    "# state represented by our total n_components"
   ]
  },
  {
   "cell_type": "markdown",
   "metadata": {},
   "source": [
    " "
   ]
  },
  {
   "cell_type": "code",
   "execution_count": 8,
   "metadata": {},
   "outputs": [
    {
     "name": "stdout",
     "output_type": "stream",
     "text": [
      "(1, 400)\n",
      "[[-0.11766749 -0.73159725  2.13683546 -0.61148283]]\n"
     ]
    }
   ],
   "source": [
    "s_scaled = scaler.transform([observation_examples[0]])\n",
    "s_transformed = feature_transformer.transform(s_scaled)\n",
    "print(np.shape(s_transformed))\n",
    "print(s_scaled)"
   ]
  },
  {
   "cell_type": "markdown",
   "metadata": {},
   "source": [
    " "
   ]
  },
  {
   "cell_type": "markdown",
   "metadata": {},
   "source": [
    " "
   ]
  },
  {
   "cell_type": "markdown",
   "metadata": {},
   "source": [
    " "
   ]
  },
  {
   "cell_type": "markdown",
   "metadata": {},
   "source": [
    "###  Implementation of function approximator"
   ]
  },
  {
   "cell_type": "markdown",
   "metadata": {},
   "source": [
    "uses separate functions for each action i.e. the action serves only as a selector for a set of three independent functions.\n",
    "<br>\n",
    "i.e. we could write $Q_{w_a}(s)$ to indicate that we have seperate functions with different parameter sets."
   ]
  },
  {
   "cell_type": "markdown",
   "metadata": {},
   "source": [
    " \n"
   ]
  },
  {
   "cell_type": "code",
   "execution_count": 41,
   "metadata": {},
   "outputs": [
    {
     "name": "stdout",
     "output_type": "stream",
     "text": [
      "Object `SGDRRegressor` not found.\n"
     ]
    }
   ],
   "source": [
    "?SGDRRegressor"
   ]
  },
  {
   "cell_type": "code",
   "execution_count": 9,
   "metadata": {},
   "outputs": [],
   "source": [
    "class FunctionApproximator():\n",
    "    \"\"\"\n",
    "    Approximates Q(s,a) with RBF\n",
    "\n",
    "    \"\"\"\n",
    " \n",
    "    def __init__(self, eta0= 0.01, learning_rate= \"constant\"):\n",
    "        \"\"\"\n",
    "        function approximator constructor set up\n",
    "        \n",
    "        args:\n",
    "            eta0: (initial) learning rate\n",
    "            learning_rate: (schedule) eta = eta0;\n",
    "                gradient of loss estimated at each sample at a time, and model to update along the way with a decreasing strength schedule\n",
    "        \"\"\"\n",
    "\n",
    "        self.eta0=eta0\n",
    "        self.learning_rate=learning_rate\n",
    "        \n",
    "        self.models = []\n",
    "        for _ in range(env.action_space.n):\n",
    "            \n",
    "            # tol: float, default=1e-3; stopping criterion. If it is not None, training will stop when (loss > best_loss - tol)\n",
    "            # max_iter: float; maximum number of passes over the training data: epochs\n",
    "            model = SGDRegressor(learning_rate=learning_rate, tol=1e-5, max_iter=1e5, eta0=eta0)\n",
    "            \n",
    "            # to perform training, we must fit data or we will get error\n",
    "            # a hacky approach or something\n",
    "            model.partial_fit([self.featurize_state(env.reset())], [0])\n",
    "            self.models.append(model)\n",
    "    \n",
    "    def featurize_state(self, state):\n",
    "        \"\"\"\n",
    "        returns the featurized representation for a state.\n",
    "        \"\"\"\n",
    "        s_scaled = scaler.transform([state])\n",
    "        s_transformed = feature_transformer.transform(s_scaled)\n",
    "        return s_transformed[0]\n",
    "    \n",
    "    def predict(self, s, a=None):\n",
    "        \"\"\"\n",
    "        makes Q(s,a) function predictions\n",
    "        \n",
    "        args:\n",
    "            s: state to make a prediction for\n",
    "            a: (optional) action to make a prediction for\n",
    "            \n",
    "        returns\n",
    "            given 'a', return a single number as the prediction\n",
    "            else, return a vector or predictions for all actions in the environment where pred[i] is the prediction for action i.\n",
    "        \"\"\"\n",
    "        \n",
    "        features = self.featurize_state(s)\n",
    "        if a==None:\n",
    "            return np.array([m.predict([features])[0] for m in self.models])\n",
    "        else:            \n",
    "            return self.models[a].predict([features])[0]\n",
    "    \n",
    "    def update(self, s, a, td_target):\n",
    "        \"\"\"\n",
    "        updates the approximator's parameters (i.e. the weights) for a given state and action towards\n",
    "        the target y (which is the TD target).\n",
    "        \"\"\"\n",
    "        \n",
    "        features = self.featurize_state(s)\n",
    "        # we have a seperate function for each 'a'\n",
    "        self.models[a].partial_fit([features], [td_target]) "
   ]
  },
  {
   "cell_type": "markdown",
   "metadata": {},
   "source": [
    " "
   ]
  },
  {
   "cell_type": "markdown",
   "metadata": {},
   "source": [
    "### Q-learning Agent"
   ]
  },
  {
   "cell_type": "markdown",
   "metadata": {},
   "source": [
    "agent to follow a policy, and update the function approximator"
   ]
  },
  {
   "cell_type": "markdown",
   "metadata": {},
   "source": [
    " "
   ]
  },
  {
   "cell_type": "code",
   "execution_count": 10,
   "metadata": {},
   "outputs": [],
   "source": [
    "# to be able to do stats checking after\n",
    "EpisodeStats = namedtuple(\"Stats\", [\"episode_lengths\", \"episode_rewards\"])"
   ]
  },
  {
   "cell_type": "code",
   "execution_count": 11,
   "metadata": {},
   "outputs": [],
   "source": [
    "def q_learning(env, func_approximator, num_episodes, discount_factor=1.0, epsilon=0.1, epsilon_decay=1.0):\n",
    "    \"\"\"\n",
    "    Q-Learning algorithm for Q-learning using Function Approximations.\n",
    "    Finds the optimal greedy policy while following an explorative greedy policy.\n",
    "    \n",
    "    args:\n",
    "        env: OpenAI environment.\n",
    "        func_approximator: Action-Value function estimator\n",
    "        num_episodes: Number of episodes to run for.\n",
    "        discount_factor: Gamma discount factor.\n",
    "        epsilon: Exploration strategy; chance the sample a random action. Float between 0 and 1.\n",
    "        epsilon_decay: Each episode, epsilon is decayed by this factor\n",
    "    \n",
    "    return:\n",
    "        An EpisodeStats object with two numpy arrays for episode_lengths, and episode_rewards.\n",
    "    \"\"\"\n",
    "    \n",
    "    # Keeps track of useful statistics\n",
    "    stats = EpisodeStats(\n",
    "        episode_lengths=np.zeros(num_episodes),\n",
    "        episode_rewards=np.zeros(num_episodes))    \n",
    "    \n",
    "    for i_episode in range(num_episodes):\n",
    "        \n",
    "        # Create a handle to the policy we're following (including exploration)a\n",
    "        policy = create_policy(\n",
    "            func_approximator, epsilon * epsilon_decay**i_episode, env.action_space.n)\n",
    "        \n",
    "        # Print out which episode we're on, useful for debugging.\n",
    "        # Also print reward for last episode\n",
    "        last_reward = stats.episode_rewards[i_episode - 1]\n",
    "        sys.stdout.flush()\n",
    "        \n",
    "        # Reset the environment and pick the first action\n",
    "        state = env.reset()\n",
    "                 \n",
    "        # One step in the environment\n",
    "        for t in itertools.count():\n",
    "                        \n",
    "            # Choose an action to take                        \n",
    "            action_probs, q_vals = policy(state)\n",
    "            action = np.random.choice(np.arange(len(action_probs)), p=action_probs)\n",
    "            \n",
    "            # Take a step\n",
    "            next_state, reward, done, _ = env.step(action)\n",
    "    \n",
    "            # Update statistics\n",
    "            stats.episode_rewards[i_episode] += reward\n",
    "            stats.episode_lengths[i_episode] = t\n",
    "            \n",
    "            # TD Update\n",
    "            q_values_next = func_approximator.predict(next_state)\n",
    "            \n",
    "            # Q-Value TD Target\n",
    "            td_target = reward + discount_factor * np.max(q_values_next)\n",
    "              \n",
    "            # Update the function approximator using our target\n",
    "            func_approximator.update(state, action, td_target)\n",
    "            \n",
    "            print(\"\\rStep {} @ Episode {}/{} ({})\".format(t, i_episode + 1, num_episodes, last_reward), end=\"\")\n",
    "                \n",
    "            if done:\n",
    "                break\n",
    "                \n",
    "            state = next_state\n",
    "\n",
    "\n",
    "    return stats"
   ]
  },
  {
   "cell_type": "markdown",
   "metadata": {},
   "source": [
    " "
   ]
  },
  {
   "cell_type": "markdown",
   "metadata": {},
   "source": [
    "### Training Agent"
   ]
  },
  {
   "cell_type": "code",
   "execution_count": 12,
   "metadata": {},
   "outputs": [
    {
     "name": "stdout",
     "output_type": "stream",
     "text": [
      "Step 51 @ Episode 100/100 (-1.5800114901142295)"
     ]
    }
   ],
   "source": [
    "approximator_dl = FunctionApproximator(eta0=0.01)\n",
    "stats = q_learning(env, approximator_dl, 100, epsilon=0.05)"
   ]
  },
  {
   "cell_type": "code",
   "execution_count": 13,
   "metadata": {},
   "outputs": [],
   "source": [
    "s = env.reset()\n",
    "\n",
    "states = [s]\n",
    "rewards = []\n",
    "action_taken = []\n",
    "\n",
    "trained_policy = create_policy(approximator_dl, 0, env.action_space.n)\n",
    "\n",
    "done = False\n",
    "\n",
    "while not done:\n",
    "    s = states[-1]\n",
    "    action_probs, q_values = trained_policy(s)\n",
    "    action_id = np.random.choice(np.arange(len(action_probs)), p=action_probs)\n",
    "    \n",
    "    s, r, done, i = env.step(action=action_id)\n",
    "    \n",
    "    states.append(s)\n",
    "    rewards.append(r)\n",
    "    action_taken.append(action_id)"
   ]
  },
  {
   "cell_type": "markdown",
   "metadata": {},
   "source": [
    " "
   ]
  },
  {
   "cell_type": "markdown",
   "metadata": {},
   "source": [
    "# Display results"
   ]
  },
  {
   "cell_type": "code",
   "execution_count": 15,
   "metadata": {},
   "outputs": [
    {
     "name": "stdout",
     "output_type": "stream",
     "text": [
      "actions taken:  [0, 0, 0, 0, 0, 1, 3, 1, 0, 0, 0, 0, 3, 0, 3, 0, 0, 1, 2, 0, 3, 0, 2, 3, 3, 2, 1, 2, 0, 2, 0, 0, 3, 0, 3, 0, 0, 0, 2, 0, 0, 0, 0, 0, 0, 1, 3, 2, 0, 3, 3, 0]\n",
      "total reward -1.80995902517328\n"
     ]
    },
    {
     "data": {
      "image/png": "[encoded data removed]",
      "text/plain": [
       "<Figure size 1440x576 with 2 Axes>"
      ]
     },
     "metadata": {
      "needs_background": "light"
     },
     "output_type": "display_data"
    },
    {
     "data": {
      "image/png": "[encoded data removed]",
      "text/plain": [
       "<Figure size 1440x576 with 2 Axes>"
      ]
     },
     "metadata": {
      "needs_background": "light"
     },
     "output_type": "display_data"
    }
   ],
   "source": [
    "fig, axes = plt.subplots(1, 2, figsize=(20, 8))\n",
    "labels = ['s[0]: susceptibles', 's[1]: infectious', 's[2]: quarantined', 's[3]: recovereds']\n",
    "states = np.array(states)\n",
    "for i in range(4):\n",
    "    axes[0].plot(states[:,i], label=labels[i]);\n",
    "axes[0].set_xlabel('weeks since start of epidemic')\n",
    "axes[0].set_ylabel('State s(t)')\n",
    "axes[0].legend()\n",
    "axes[1].plot(rewards);\n",
    "axes[1].set_title('Reward')\n",
    "axes[1].set_xlabel('weeks since start of epidemic')\n",
    "axes[1].set_ylabel('reward r(t)')\n",
    "\n",
    "print('actions taken: ', action_taken)\n",
    "\n",
    "utils.plot(states, rewards, action_taken)"
   ]
  },
  {
   "cell_type": "code",
   "execution_count": null,
   "metadata": {},
   "outputs": [],
   "source": []
  }
 ],
 "metadata": {
  "kernelspec": {
   "display_name": "Python 3",
   "language": "python",
   "name": "python3"
  },
  "language_info": {
   "codemirror_mode": {
    "name": "ipython",
    "version": 3
   },
   "file_extension": ".py",
   "mimetype": "text/x-python",
   "name": "python",
   "nbconvert_exporter": "python",
   "pygments_lexer": "ipython3",
   "version": "3.8.3"
  },
  "toc": {
   "base_numbering": 1,
   "nav_menu": {},
   "number_sections": true,
   "sideBar": true,
   "skip_h1_title": false,
   "title_cell": "Table of Contents",
   "title_sidebar": "Contents",
   "toc_cell": false,
   "toc_position": {},
   "toc_section_display": true,
   "toc_window_display": false
  },
  "varInspector": {
   "cols": {
    "lenName": 16,
    "lenType": 16,
    "lenVar": 40
   },
   "kernels_config": {
    "python": {
     "delete_cmd_postfix": "",
     "delete_cmd_prefix": "del ",
     "library": "var_list.py",
     "varRefreshCmd": "print(var_dic_list())"
    },
    "r": {
     "delete_cmd_postfix": ") ",
     "delete_cmd_prefix": "rm(",
     "library": "var_list.r",
     "varRefreshCmd": "cat(var_dic_list()) "
    }
   },
   "position": {
    "height": "546.523px",
    "left": "338.364px",
    "right": "20px",
    "top": "181px",
    "width": "699px"
   },
   "types_to_exclude": [
    "module",
    "function",
    "builtin_function_or_method",
    "instance",
    "_Feature"
   ],
   "window_display": false
  }
 },
 "nbformat": 4,
 "nbformat_minor": 4
}
